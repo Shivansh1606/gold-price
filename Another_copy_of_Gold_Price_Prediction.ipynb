{
  "metadata": {
    "kernelspec": {
      "language": "python",
      "display_name": "Python 3",
      "name": "python3"
    },
    "language_info": {
      "pygments_lexer": "ipython3",
      "nbconvert_exporter": "python",
      "version": "3.6.4",
      "file_extension": ".py",
      "codemirror_mode": {
        "name": "ipython",
        "version": 3
      },
      "name": "python",
      "mimetype": "text/x-python"
    },
    "colab": {
      "provenance": []
    }
  },
  "nbformat_minor": 0,
  "nbformat": 4,
  "cells": [
    {
      "source": [
        "# IMPORTANT: RUN THIS CELL IN ORDER TO IMPORT YOUR KAGGLE DATA SOURCES,\n",
        "# THEN FEEL FREE TO DELETE THIS CELL.\n",
        "# NOTE: THIS NOTEBOOK ENVIRONMENT DIFFERS FROM KAGGLE'S PYTHON\n",
        "# ENVIRONMENT SO THERE MAY BE MISSING LIBRARIES USED BY YOUR\n",
        "# NOTEBOOK.\n",
        "import kagglehub\n",
        "farzadnekouei_gold_price_10_years_20132023_path = kagglehub.dataset_download('farzadnekouei/gold-price-10-years-20132023')\n",
        "\n",
        "print('Data source import complete.')\n"
      ],
      "metadata": {
        "id": "1z351vsmFsgM"
      },
      "cell_type": "code",
      "outputs": [],
      "execution_count": null
    },
    {
      "cell_type": "code",
      "source": [
        "from google.colab import drive\n",
        "drive.mount('/content/drive')"
      ],
      "metadata": {
        "id": "6MJ92obmSyZA"
      },
      "execution_count": null,
      "outputs": []
    },
    {
      "cell_type": "markdown",
      "source": [
        "![Gold_Price_Prediction_Slide.jpg](attachment:Gold_Price_Prediction_Slide.jpg)"
      ],
      "metadata": {
        "papermill": {
          "duration": 0.014447,
          "end_time": "2023-01-11T15:59:31.97245",
          "exception": false,
          "start_time": "2023-01-11T15:59:31.958003",
          "status": "completed"
        },
        "tags": [],
        "id": "8_k8YsBvFsgR"
      }
    },
    {
      "cell_type": "markdown",
      "source": [
        "__In this notebook, we are going to build a time series model to predict the future price of gold, which can be very useful for traders. For this purpose, we use the historical gold price data for 10 years (from 2013 to 2023).__"
      ],
      "metadata": {
        "papermill": {
          "duration": 0.016665,
          "end_time": "2023-01-11T15:59:32.003767",
          "exception": false,
          "start_time": "2023-01-11T15:59:31.987102",
          "status": "completed"
        },
        "tags": [],
        "id": "fwCUK-M6FsgT"
      }
    },
    {
      "cell_type": "markdown",
      "source": [
        "### Let's get started:"
      ],
      "metadata": {
        "papermill": {
          "duration": 0.014548,
          "end_time": "2023-01-11T15:59:32.03317",
          "exception": false,
          "start_time": "2023-01-11T15:59:32.018622",
          "status": "completed"
        },
        "tags": [],
        "id": "qjZMwps2FsgU"
      }
    },
    {
      "cell_type": "markdown",
      "source": [
        "# Step 1: Importing Libraries"
      ],
      "metadata": {
        "papermill": {
          "duration": 0.013762,
          "end_time": "2023-01-11T15:59:32.061008",
          "exception": false,
          "start_time": "2023-01-11T15:59:32.047246",
          "status": "completed"
        },
        "tags": [],
        "id": "SWJBBZ3DFsgU"
      }
    },
    {
      "cell_type": "code",
      "source": [
        "import numpy as np\n",
        "import pandas as pd\n",
        "import matplotlib.pyplot as plt\n",
        "import plotly.express as px\n",
        "from sklearn.preprocessing import MinMaxScaler\n",
        "from sklearn.model_selection import train_test_split\n",
        "from sklearn.metrics import mean_absolute_percentage_error\n",
        "import tensorflow as tf\n",
        "from keras import Model\n",
        "from sklearn.linear_model import LinearRegression\n",
        "from sklearn.metrics import r2_score\n"
      ],
      "metadata": {
        "papermill": {
          "duration": 8.866014,
          "end_time": "2023-01-11T15:59:40.940941",
          "exception": false,
          "start_time": "2023-01-11T15:59:32.074927",
          "status": "completed"
        },
        "tags": [],
        "execution": {
          "iopub.status.busy": "2023-01-13T21:11:52.141149Z",
          "iopub.execute_input": "2023-01-13T21:11:52.141926Z",
          "iopub.status.idle": "2023-01-13T21:11:55.242312Z",
          "shell.execute_reply.started": "2023-01-13T21:11:52.141843Z",
          "shell.execute_reply": "2023-01-13T21:11:55.240978Z"
        },
        "trusted": true,
        "id": "MtbKQrtbFsgU"
      },
      "execution_count": null,
      "outputs": []
    },
    {
      "cell_type": "markdown",
      "source": [
        "# Step 2: Reading Dataset"
      ],
      "metadata": {
        "papermill": {
          "duration": 0.013572,
          "end_time": "2023-01-11T15:59:40.969264",
          "exception": false,
          "start_time": "2023-01-11T15:59:40.955692",
          "status": "completed"
        },
        "tags": [],
        "id": "ZTRRbVT_FsgV"
      }
    },
    {
      "cell_type": "code",
      "source": [
        "df = pd.read_csv('/kaggle/input/gold-price-10-years-20132023/Gold Price (2013-2023).csv')"
      ],
      "metadata": {
        "papermill": {
          "duration": 0.045793,
          "end_time": "2023-01-11T15:59:41.028622",
          "exception": false,
          "start_time": "2023-01-11T15:59:40.982829",
          "status": "completed"
        },
        "tags": [],
        "execution": {
          "iopub.status.busy": "2023-01-13T21:11:55.249864Z",
          "iopub.execute_input": "2023-01-13T21:11:55.250299Z",
          "iopub.status.idle": "2023-01-13T21:11:55.267752Z",
          "shell.execute_reply.started": "2023-01-13T21:11:55.250264Z",
          "shell.execute_reply": "2023-01-13T21:11:55.2664Z"
        },
        "trusted": true,
        "id": "dWB40bPKFsgV"
      },
      "execution_count": null,
      "outputs": []
    },
    {
      "cell_type": "markdown",
      "source": [
        "# Step 3: Dataset Overview"
      ],
      "metadata": {
        "papermill": {
          "duration": 0.013377,
          "end_time": "2023-01-11T15:59:41.055868",
          "exception": false,
          "start_time": "2023-01-11T15:59:41.042491",
          "status": "completed"
        },
        "tags": [],
        "id": "wqodMUUbFsgW"
      }
    },
    {
      "cell_type": "code",
      "source": [
        "df"
      ],
      "metadata": {
        "papermill": {
          "duration": 0.039965,
          "end_time": "2023-01-11T15:59:41.109461",
          "exception": false,
          "start_time": "2023-01-11T15:59:41.069496",
          "status": "completed"
        },
        "tags": [],
        "execution": {
          "iopub.status.busy": "2023-01-13T21:11:55.269392Z",
          "iopub.execute_input": "2023-01-13T21:11:55.269791Z",
          "iopub.status.idle": "2023-01-13T21:11:55.294122Z",
          "shell.execute_reply.started": "2023-01-13T21:11:55.269757Z",
          "shell.execute_reply": "2023-01-13T21:11:55.292555Z"
        },
        "trusted": true,
        "id": "iFEwcT-xFsgW"
      },
      "execution_count": null,
      "outputs": []
    },
    {
      "cell_type": "markdown",
      "source": [
        "__As you can see, the data set includes daily gold price information including daily Open, High and Low prices and the final price of each day (Price) along with the volume of transactions and price changes in each day.__"
      ],
      "metadata": {
        "papermill": {
          "duration": 0.013548,
          "end_time": "2023-01-11T15:59:41.136732",
          "exception": false,
          "start_time": "2023-01-11T15:59:41.123184",
          "status": "completed"
        },
        "tags": [],
        "id": "-DdwhW5eFsgW"
      }
    },
    {
      "cell_type": "markdown",
      "source": [
        "__Dataset Basic Information:__"
      ],
      "metadata": {
        "papermill": {
          "duration": 0.013841,
          "end_time": "2023-01-11T15:59:41.164867",
          "exception": false,
          "start_time": "2023-01-11T15:59:41.151026",
          "status": "completed"
        },
        "tags": [],
        "id": "Mhw-CPoqFsgW"
      }
    },
    {
      "cell_type": "code",
      "source": [
        "df.info()"
      ],
      "metadata": {
        "papermill": {
          "duration": 0.042283,
          "end_time": "2023-01-11T15:59:41.221076",
          "exception": false,
          "start_time": "2023-01-11T15:59:41.178793",
          "status": "completed"
        },
        "scrolled": true,
        "tags": [],
        "execution": {
          "iopub.status.busy": "2023-01-13T21:11:55.297715Z",
          "iopub.execute_input": "2023-01-13T21:11:55.298549Z",
          "iopub.status.idle": "2023-01-13T21:11:55.324863Z",
          "shell.execute_reply.started": "2023-01-13T21:11:55.298503Z",
          "shell.execute_reply": "2023-01-13T21:11:55.323418Z"
        },
        "trusted": true,
        "id": "NraiQmFRFsgX"
      },
      "execution_count": null,
      "outputs": []
    },
    {
      "cell_type": "markdown",
      "source": [
        "__All variables are stored as object.__"
      ],
      "metadata": {
        "papermill": {
          "duration": 0.014059,
          "end_time": "2023-01-11T15:59:41.249575",
          "exception": false,
          "start_time": "2023-01-11T15:59:41.235516",
          "status": "completed"
        },
        "tags": [],
        "id": "fwuqlhxeFsgX"
      }
    },
    {
      "cell_type": "markdown",
      "source": [
        "# Step 4: Data Preparation"
      ],
      "metadata": {
        "papermill": {
          "duration": 0.013784,
          "end_time": "2023-01-11T15:59:41.277847",
          "exception": false,
          "start_time": "2023-01-11T15:59:41.264063",
          "status": "completed"
        },
        "tags": [],
        "id": "31PdzjYpFsgX"
      }
    },
    {
      "cell_type": "markdown",
      "source": [
        "## Step 4.1: Feature Subset Selection\n",
        "__Since we will not use Vol. and Change % features to predict Price, we will drop these two features:__"
      ],
      "metadata": {
        "papermill": {
          "duration": 0.013802,
          "end_time": "2023-01-11T15:59:41.305668",
          "exception": false,
          "start_time": "2023-01-11T15:59:41.291866",
          "status": "completed"
        },
        "tags": [],
        "id": "_41dIv1dFsgX"
      }
    },
    {
      "cell_type": "code",
      "source": [
        "df.drop(['Vol.', 'Change %'], axis=1, inplace=True)"
      ],
      "metadata": {
        "papermill": {
          "duration": 0.023413,
          "end_time": "2023-01-11T15:59:41.343377",
          "exception": false,
          "start_time": "2023-01-11T15:59:41.319964",
          "status": "completed"
        },
        "tags": [],
        "execution": {
          "iopub.status.busy": "2023-01-13T21:11:55.326756Z",
          "iopub.execute_input": "2023-01-13T21:11:55.327262Z",
          "iopub.status.idle": "2023-01-13T21:11:55.336028Z",
          "shell.execute_reply.started": "2023-01-13T21:11:55.327214Z",
          "shell.execute_reply": "2023-01-13T21:11:55.334543Z"
        },
        "trusted": true,
        "id": "Nl1acde2FsgX"
      },
      "execution_count": null,
      "outputs": []
    },
    {
      "cell_type": "markdown",
      "source": [
        "## Step 4.2: Transforming Data"
      ],
      "metadata": {
        "papermill": {
          "duration": 0.014274,
          "end_time": "2023-01-11T15:59:41.372079",
          "exception": false,
          "start_time": "2023-01-11T15:59:41.357805",
          "status": "completed"
        },
        "tags": [],
        "id": "CdrW62jhFsgX"
      }
    },
    {
      "cell_type": "markdown",
      "source": [
        "__Date feature is stored as object in the data frame. To increase the speed of calculations, we convert it's data type to datetime and then sort this feature in ascending order:__"
      ],
      "metadata": {
        "papermill": {
          "duration": 0.013898,
          "end_time": "2023-01-11T15:59:41.400444",
          "exception": false,
          "start_time": "2023-01-11T15:59:41.386546",
          "status": "completed"
        },
        "tags": [],
        "id": "DzxDlK2KFsgX"
      }
    },
    {
      "cell_type": "code",
      "source": [
        "df['Date'] = pd.to_datetime(df['Date'])\n",
        "df.sort_values(by='Date', ascending=True, inplace=True)\n",
        "df.reset_index(drop=True, inplace=True)"
      ],
      "metadata": {
        "papermill": {
          "duration": 0.031911,
          "end_time": "2023-01-11T15:59:41.447528",
          "exception": false,
          "start_time": "2023-01-11T15:59:41.415617",
          "status": "completed"
        },
        "tags": [],
        "execution": {
          "iopub.status.busy": "2023-01-13T21:11:55.337912Z",
          "iopub.execute_input": "2023-01-13T21:11:55.338501Z",
          "iopub.status.idle": "2023-01-13T21:11:55.355153Z",
          "shell.execute_reply.started": "2023-01-13T21:11:55.338449Z",
          "shell.execute_reply": "2023-01-13T21:11:55.353536Z"
        },
        "trusted": true,
        "id": "GyAvYeN2FsgX"
      },
      "execution_count": null,
      "outputs": []
    },
    {
      "cell_type": "markdown",
      "source": [
        "__The \" , \" sign is redundant in the dataset. First, we remove it from the entire dataset and then change the data type of the numerical variables to float:__"
      ],
      "metadata": {
        "papermill": {
          "duration": 0.014231,
          "end_time": "2023-01-11T15:59:41.477247",
          "exception": false,
          "start_time": "2023-01-11T15:59:41.463016",
          "status": "completed"
        },
        "tags": [],
        "id": "3aZufya5FsgY"
      }
    },
    {
      "cell_type": "code",
      "source": [
        "NumCols = df.columns.drop(['Date'])\n",
        "df[NumCols] = df[NumCols].replace({',': ''}, regex=True)\n",
        "df[NumCols] = df[NumCols].astype('float64')"
      ],
      "metadata": {
        "papermill": {
          "duration": 0.059897,
          "end_time": "2023-01-11T15:59:41.55159",
          "exception": false,
          "start_time": "2023-01-11T15:59:41.491693",
          "status": "completed"
        },
        "tags": [],
        "execution": {
          "iopub.status.busy": "2023-01-13T21:11:55.357066Z",
          "iopub.execute_input": "2023-01-13T21:11:55.357482Z",
          "iopub.status.idle": "2023-01-13T21:11:55.410337Z",
          "shell.execute_reply.started": "2023-01-13T21:11:55.357444Z",
          "shell.execute_reply": "2023-01-13T21:11:55.409066Z"
        },
        "trusted": true,
        "id": "FfqaDTnOFsgY"
      },
      "execution_count": null,
      "outputs": []
    },
    {
      "cell_type": "markdown",
      "source": [
        "__Result:__"
      ],
      "metadata": {
        "papermill": {
          "duration": 0.015026,
          "end_time": "2023-01-11T15:59:41.582168",
          "exception": false,
          "start_time": "2023-01-11T15:59:41.567142",
          "status": "completed"
        },
        "tags": [],
        "id": "oer7SVU5FsgY"
      }
    },
    {
      "cell_type": "code",
      "source": [
        "df.head()"
      ],
      "metadata": {
        "papermill": {
          "duration": 0.035917,
          "end_time": "2023-01-11T15:59:41.633462",
          "exception": false,
          "start_time": "2023-01-11T15:59:41.597545",
          "status": "completed"
        },
        "tags": [],
        "execution": {
          "iopub.status.busy": "2023-01-13T21:11:55.411787Z",
          "iopub.execute_input": "2023-01-13T21:11:55.412623Z",
          "iopub.status.idle": "2023-01-13T21:11:55.431374Z",
          "shell.execute_reply.started": "2023-01-13T21:11:55.412567Z",
          "shell.execute_reply": "2023-01-13T21:11:55.429771Z"
        },
        "trusted": true,
        "id": "6JDfhTiSFsgY"
      },
      "execution_count": null,
      "outputs": []
    },
    {
      "cell_type": "markdown",
      "source": [
        "## Step 4.3: Checking Duplicates\n",
        "__There are no duplicate samples in Date feature:__"
      ],
      "metadata": {
        "papermill": {
          "duration": 0.014097,
          "end_time": "2023-01-11T15:59:41.662179",
          "exception": false,
          "start_time": "2023-01-11T15:59:41.648082",
          "status": "completed"
        },
        "tags": [],
        "id": "Q1xhokHcFsgY"
      }
    },
    {
      "cell_type": "code",
      "source": [
        "df.duplicated().sum()"
      ],
      "metadata": {
        "papermill": {
          "duration": 0.028067,
          "end_time": "2023-01-11T15:59:41.705",
          "exception": false,
          "start_time": "2023-01-11T15:59:41.676933",
          "status": "completed"
        },
        "tags": [],
        "execution": {
          "iopub.status.busy": "2023-01-13T21:11:55.433586Z",
          "iopub.execute_input": "2023-01-13T21:11:55.43408Z",
          "iopub.status.idle": "2023-01-13T21:11:55.452323Z",
          "shell.execute_reply.started": "2023-01-13T21:11:55.434037Z",
          "shell.execute_reply": "2023-01-13T21:11:55.450569Z"
        },
        "trusted": true,
        "id": "p5A4H2hdFsgY"
      },
      "execution_count": null,
      "outputs": []
    },
    {
      "cell_type": "markdown",
      "source": [
        "## Step 4.4: Checking Missing Values\n",
        "__There are no missing values in the dataset:__"
      ],
      "metadata": {
        "papermill": {
          "duration": 0.014432,
          "end_time": "2023-01-11T15:59:41.734442",
          "exception": false,
          "start_time": "2023-01-11T15:59:41.72001",
          "status": "completed"
        },
        "tags": [],
        "id": "QBLGHEtjFsgZ"
      }
    },
    {
      "cell_type": "code",
      "source": [
        "df.isnull().sum().sum()"
      ],
      "metadata": {
        "papermill": {
          "duration": 0.029573,
          "end_time": "2023-01-11T15:59:41.778791",
          "exception": false,
          "start_time": "2023-01-11T15:59:41.749218",
          "status": "completed"
        },
        "tags": [],
        "execution": {
          "iopub.status.busy": "2023-01-13T21:11:55.453912Z",
          "iopub.execute_input": "2023-01-13T21:11:55.454366Z",
          "iopub.status.idle": "2023-01-13T21:11:55.466612Z",
          "shell.execute_reply.started": "2023-01-13T21:11:55.454317Z",
          "shell.execute_reply": "2023-01-13T21:11:55.465054Z"
        },
        "trusted": true,
        "id": "CHfl8FIRFsgZ"
      },
      "execution_count": null,
      "outputs": []
    },
    {
      "cell_type": "markdown",
      "source": [
        "# Step 5: Visualizing Gold Price History Data\n",
        "\n",
        "__Interactive Gold Price Chart:__"
      ],
      "metadata": {
        "papermill": {
          "duration": 0.014628,
          "end_time": "2023-01-11T15:59:41.808567",
          "exception": false,
          "start_time": "2023-01-11T15:59:41.793939",
          "status": "completed"
        },
        "tags": [],
        "id": "tyeSqxeoFsgZ"
      }
    },
    {
      "cell_type": "code",
      "source": [
        "fig = px.line(y=df.Price, x=df.Date)\n",
        "fig.update_traces(line_color='black')\n",
        "fig.update_layout(xaxis_title=\"Date\",\n",
        "                  yaxis_title=\"Scaled Price\",\n",
        "                  title={'text': \"Gold Price History Data\", 'y':0.95, 'x':0.5, 'xanchor':'center', 'yanchor':'top'},\n",
        "                  plot_bgcolor='rgba(255,223,0,0.8)')"
      ],
      "metadata": {
        "papermill": {
          "duration": 1.42051,
          "end_time": "2023-01-11T15:59:43.244719",
          "exception": false,
          "start_time": "2023-01-11T15:59:41.824209",
          "status": "completed"
        },
        "tags": [],
        "execution": {
          "iopub.status.busy": "2023-01-13T21:11:55.468437Z",
          "iopub.execute_input": "2023-01-13T21:11:55.468859Z",
          "iopub.status.idle": "2023-01-13T21:11:56.665075Z",
          "shell.execute_reply.started": "2023-01-13T21:11:55.468819Z",
          "shell.execute_reply": "2023-01-13T21:11:56.664028Z"
        },
        "trusted": true,
        "id": "ShLWNDqDFsgZ"
      },
      "execution_count": null,
      "outputs": []
    },
    {
      "cell_type": "markdown",
      "source": [
        "# Step 6: Splitting Data to Training & Test Sets\n",
        "__Since we cannot train on future data in time series data, we should not divide the time series data randomly. In time series splitting, testing set is always later than training set. We consider the last year for testing and everything else for training:__"
      ],
      "metadata": {
        "papermill": {
          "duration": 0.01572,
          "end_time": "2023-01-11T15:59:43.278269",
          "exception": false,
          "start_time": "2023-01-11T15:59:43.262549",
          "status": "completed"
        },
        "tags": [],
        "id": "LnZgAjnOFsgZ"
      }
    },
    {
      "cell_type": "code",
      "source": [
        "test_size = df[df.Date.dt.year==2022].shape[0]\n",
        "test_size"
      ],
      "metadata": {
        "papermill": {
          "duration": 0.029206,
          "end_time": "2023-01-11T15:59:43.323531",
          "exception": false,
          "start_time": "2023-01-11T15:59:43.294325",
          "status": "completed"
        },
        "tags": [],
        "execution": {
          "iopub.status.busy": "2023-01-13T21:11:56.666198Z",
          "iopub.execute_input": "2023-01-13T21:11:56.666572Z",
          "iopub.status.idle": "2023-01-13T21:11:56.678891Z",
          "shell.execute_reply.started": "2023-01-13T21:11:56.666538Z",
          "shell.execute_reply": "2023-01-13T21:11:56.677512Z"
        },
        "trusted": true,
        "id": "5cPI3R4jFsgZ"
      },
      "execution_count": null,
      "outputs": []
    },
    {
      "cell_type": "code",
      "source": [
        "df['Date'] = pd.to_datetime(df['Date'])\n",
        "df['Price'] = df['Price'].astype(str).str.replace(',', '').astype(float)\n",
        "\n",
        "# Add 'Days' column since the start\n",
        "df['Days'] = (df['Date'] - df['Date'].min()).dt.days\n",
        "\n",
        "# Features and target\n",
        "X = df[['Days']]\n",
        "y = df['Price']\n",
        "\n",
        "# Train-test split\n",
        "X_train, X_test, y_train, y_test = train_test_split(X, y, test_size=0.2, random_state=42)\n",
        "\n",
        "# Linear Regression model\n",
        "model = LinearRegression()\n",
        "model.fit(X_train, y_train)\n",
        "\n",
        "# Predict on test set\n",
        "y_pred = model.predict(X_test)\n",
        "\n",
        "# Predict next 30 days\n",
        "future_days = pd.DataFrame({'Days': np.arange(df['Days'].max() + 1, df['Days'].max() + 31)})\n",
        "future_prices = model.predict(future_days)\n",
        "\n",
        "# R-squared score\n",
        "r_squared = r2_score(y_test, y_pred)\n",
        "print(f\"R-squared: {r_squared:.4f}\")\n",
        "\n",
        "# Plotting\n",
        "plt.figure(figsize=(10, 5))\n",
        "plt.scatter(df['Days'], df['Price'], color='blue', label='Historical Prices', s=10)\n",
        "plt.plot(X, model.predict(X), color='orange', label='Regression Line')\n",
        "plt.plot(future_days['Days'], future_prices, color='red', linestyle='dashed', label='30-Day Prediction')\n",
        "plt.xlabel('Days since start')\n",
        "plt.ylabel('Gold Price')\n",
        "plt.title('Gold Price Prediction (Linear Regression)')\n",
        "plt.legend()\n",
        "plt.grid()\n",
        "plt.tight_layout()\n",
        "plt.show()"
      ],
      "metadata": {
        "id": "bHOcCSFQGQLW"
      },
      "execution_count": null,
      "outputs": []
    }
  ]
}