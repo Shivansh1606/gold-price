{
  "cells": [
    {
      "cell_type": "code",
      "execution_count": null,
      "metadata": {
        "id": "1z351vsmFsgM"
      },
      "outputs": [],
      "source": [
        "# IMPORTANT: RUN THIS CELL IN ORDER TO IMPORT YOUR KAGGLE DATA SOURCES,\n",
        "# THEN FEEL FREE TO DELETE THIS CELL.\n",
        "# NOTE: THIS NOTEBOOK ENVIRONMENT DIFFERS FROM KAGGLE'S PYTHON\n",
        "# ENVIRONMENT SO THERE MAY BE MISSING LIBRARIES USED BY YOUR\n",
        "# NOTEBOOK.\n",
        "\n",
        "import os\n",
        "from kaggle.api.kaggle_api_extended import KaggleApi\n",
        "\n",
        "# Downloading dataset from Kaggle using Kaggle API\n",
        "api = KaggleApi()\n",
        "api.authenticate()\n",
        "\n",
        "# Replace 'farzadnekouei/gold-price-10-years-20132023' with your dataset name\n",
        "dataset_name = 'farzadnekouei/gold-price-10-years-20132023'\n",
        "api.dataset_download_files(dataset_name, path='./data', unzip=True)\n",
        "\n",
        "print('Data source import complete.')\n"
      ]
    },
    {
      "cell_type": "code",
      "execution_count": null,
      "metadata": {
        "id": "6MJ92obmSyZA"
      },
      "outputs": [],
      "source": [
        "# If you're using Google Colab, mount Google Drive like this:\n",
        "from google.colab import drive\n",
        "drive.mount('/content/drive')\n",
        "\n",
        "# Make sure you have the file 'Gold_Price_Prediction_Slide.jpg' in your Google Drive or in the current directory\n"
      ]
    },
    {
      "cell_type": "markdown",
      "metadata": {
        "id": "fwCUK-M6FsgT",
        "papermill": {
          "duration": 0.016665,
          "end_time": "2023-01-11T15:59:32.003767",
          "exception": false,
          "start_time": "2023-01-11T15:59:31.987102",
          "status": "completed"
        },
        "tags": []
      },
      "source": [
        "__In this notebook, we are going to build a time series model to predict the future price of gold, which can be very useful for traders. For this purpose, we use the historical gold price data for 10 years (from 2013 to 2023).__"
      ]
    },
    {
      "cell_type": "markdown",
      "metadata": {
        "id": "qjZMwps2FsgU",
        "papermill": {
          "duration": 0.014548,
          "end_time": "2023-01-11T15:59:32.03317",
          "exception": false,
          "start_time": "2023-01-11T15:59:32.018622",
          "status": "completed"
        },
        "tags": []
      },
      "source": [
        "### Let's get started:"
      ]
    },
    {
      "cell_type": "markdown",
      "metadata": {
        "id": "SWJBBZ3DFsgU",
        "papermill": {
          "duration": 0.013762,
          "end_time": "2023-01-11T15:59:32.061008",
          "exception": false,
          "start_time": "2023-01-11T15:59:32.047246",
          "status": "completed"
        },
        "tags": []
      },
      "source": [
        "# Step 1: Importing Libraries"
      ]
    },
    {
      "cell_type": "code",
      "execution_count": null,
      "metadata": {
        "execution": {
          "iopub.execute_input": "2023-01-13T21:11:52.141926Z",
          "iopub.status.busy": "2023-01-13T21:11:52.141149Z",
          "iopub.status.idle": "2023-01-13T21:11:55.242312Z",
          "shell.execute_reply": "2023-01-13T21:11:55.240978Z",
          "shell.execute_reply.started": "2023-01-13T21:11:52.141843Z"
        },
        "id": "MtbKQrtbFsgU",
        "papermill": {
          "duration": 8.866014,
          "end_time": "2023-01-11T15:59:40.940941",
          "exception": false,
          "start_time": "2023-01-11T15:59:32.074927",
          "status": "completed"
        },
        "tags": [],
        "trusted": true
      },
      "outputs": [],
      "source": [
        "import numpy as np\n",
        "import pandas as pd\n",
        "import matplotlib.pyplot as plt\n",
        "import plotly.express as px\n",
        "from sklearn.preprocessing import MinMaxScaler\n",
        "from sklearn.model_selection import train_test_split\n",
        "from sklearn.metrics import mean_absolute_percentage_error, r2_score\n",
        "import tensorflow as tf\n",
        "from keras import Model\n",
        "from sklearn.linear_model import LinearRegression\n"
      ]
    },
    {
      "cell_type": "markdown",
      "metadata": {
        "id": "ZTRRbVT_FsgV",
        "papermill": {
          "duration": 0.013572,
          "end_time": "2023-01-11T15:59:40.969264",
          "exception": false,
          "start_time": "2023-01-11T15:59:40.955692",
          "status": "completed"
        },
        "tags": []
      },
      "source": [
        "# Step 2: Reading Dataset"
      ]
    },
    {
      "cell_type": "code",
      "execution_count": null,
      "metadata": {
        "execution": {
          "iopub.execute_input": "2023-01-13T21:11:55.250299Z",
          "iopub.status.busy": "2023-01-13T21:11:55.249864Z",
          "iopub.status.idle": "2023-01-13T21:11:55.267752Z",
          "shell.execute_reply": "2023-01-13T21:11:55.2664Z",
          "shell.execute_reply.started": "2023-01-13T21:11:55.250264Z"
        },
        "id": "dWB40bPKFsgV",
        "papermill": {
          "duration": 0.045793,
          "end_time": "2023-01-11T15:59:41.028622",
          "exception": false,
          "start_time": "2023-01-11T15:59:40.982829",
          "status": "completed"
        },
        "tags": [],
        "trusted": true
      },
      "outputs": [],
      "source": [
        "# Assuming the dataset has already been downloaded and is in the local directory\n",
        "df = pd.read_csv('data/Gold Price (2013-2023).csv')  # Update with the correct path if needed\n"
      ]
    },
    {
      "cell_type": "markdown",
      "metadata": {
        "id": "wqodMUUbFsgW",
        "papermill": {
          "duration": 0.013377,
          "end_time": "2023-01-11T15:59:41.055868",
          "exception": false,
          "start_time": "2023-01-11T15:59:41.042491",
          "status": "completed"
        },
        "tags": []
      },
      "source": [
        "# Step 3: Dataset Overview"
      ]
    },
    {
      "cell_type": "code",
      "execution_count": null,
      "metadata": {
        "execution": {
          "iopub.execute_input": "2023-01-13T21:11:55.269791Z",
          "iopub.status.busy": "2023-01-13T21:11:55.269392Z",
          "iopub.status.idle": "2023-01-13T21:11:55.294122Z",
          "shell.execute_reply": "2023-01-13T21:11:55.292555Z",
          "shell.execute_reply.started": "2023-01-13T21:11:55.269757Z"
        },
        "id": "iFEwcT-xFsgW",
        "papermill": {
          "duration": 0.039965,
          "end_time": "2023-01-11T15:59:41.109461",
          "exception": false,
          "start_time": "2023-01-11T15:59:41.069496",
          "status": "completed"
        },
        "tags": [],
        "trusted": true
      },
      "outputs": [],
      "source": [
        "df# Checking the basic structure of the dataset\n",
        "df.info()\n",
        "df.head()\n"
      ]
    },
    {
      "cell_type": "markdown",
      "metadata": {
        "id": "-DdwhW5eFsgW",
        "papermill": {
          "duration": 0.013548,
          "end_time": "2023-01-11T15:59:41.136732",
          "exception": false,
          "start_time": "2023-01-11T15:59:41.123184",
          "status": "completed"
        },
        "tags": []
      },
      "source": [
        "__As you can see, the data set includes daily gold price information including daily Open, High and Low prices and the final price of each day (Price) along with the volume of transactions and price changes in each day.__"
      ]
    },
    {
      "cell_type": "markdown",
      "metadata": {
        "id": "Mhw-CPoqFsgW",
        "papermill": {
          "duration": 0.013841,
          "end_time": "2023-01-11T15:59:41.164867",
          "exception": false,
          "start_time": "2023-01-11T15:59:41.151026",
          "status": "completed"
        },
        "tags": []
      },
      "source": [
        "__Dataset Basic Information:__"
      ]
    },
    {
      "cell_type": "code",
      "execution_count": null,
      "metadata": {
        "execution": {
          "iopub.execute_input": "2023-01-13T21:11:55.298549Z",
          "iopub.status.busy": "2023-01-13T21:11:55.297715Z",
          "iopub.status.idle": "2023-01-13T21:11:55.324863Z",
          "shell.execute_reply": "2023-01-13T21:11:55.323418Z",
          "shell.execute_reply.started": "2023-01-13T21:11:55.298503Z"
        },
        "id": "NraiQmFRFsgX",
        "papermill": {
          "duration": 0.042283,
          "end_time": "2023-01-11T15:59:41.221076",
          "exception": false,
          "start_time": "2023-01-11T15:59:41.178793",
          "status": "completed"
        },
        "scrolled": true,
        "tags": [],
        "trusted": true
      },
      "outputs": [],
      "source": [
        "df.info()"
      ]
    },
    {
      "cell_type": "markdown",
      "metadata": {
        "id": "fwuqlhxeFsgX",
        "papermill": {
          "duration": 0.014059,
          "end_time": "2023-01-11T15:59:41.249575",
          "exception": false,
          "start_time": "2023-01-11T15:59:41.235516",
          "status": "completed"
        },
        "tags": []
      },
      "source": [
        "__All variables are stored as object.__"
      ]
    },
    {
      "cell_type": "markdown",
      "metadata": {
        "id": "31PdzjYpFsgX",
        "papermill": {
          "duration": 0.013784,
          "end_time": "2023-01-11T15:59:41.277847",
          "exception": false,
          "start_time": "2023-01-11T15:59:41.264063",
          "status": "completed"
        },
        "tags": []
      },
      "source": [
        "# Step 4: Data Preparation"
      ]
    },
    {
      "cell_type": "markdown",
      "metadata": {
        "id": "_41dIv1dFsgX",
        "papermill": {
          "duration": 0.013802,
          "end_time": "2023-01-11T15:59:41.305668",
          "exception": false,
          "start_time": "2023-01-11T15:59:41.291866",
          "status": "completed"
        },
        "tags": []
      },
      "source": [
        "## Step 4.1: Feature Subset Selection\n",
        "__Since we will not use Vol. and Change % features to predict Price, we will drop these two features:__"
      ]
    },
    {
      "cell_type": "code",
      "execution_count": null,
      "metadata": {
        "execution": {
          "iopub.execute_input": "2023-01-13T21:11:55.327262Z",
          "iopub.status.busy": "2023-01-13T21:11:55.326756Z",
          "iopub.status.idle": "2023-01-13T21:11:55.336028Z",
          "shell.execute_reply": "2023-01-13T21:11:55.334543Z",
          "shell.execute_reply.started": "2023-01-13T21:11:55.327214Z"
        },
        "id": "Nl1acde2FsgX",
        "papermill": {
          "duration": 0.023413,
          "end_time": "2023-01-11T15:59:41.343377",
          "exception": false,
          "start_time": "2023-01-11T15:59:41.319964",
          "status": "completed"
        },
        "tags": [],
        "trusted": true
      },
      "outputs": [],
      "source": [
        "# Drop columns 'Vol.' and 'Change %' as we won't use them for prediction\n",
        "df.drop(['Vol.', 'Change %'], axis=1, inplace=True)\n"
      ]
    },
    {
      "cell_type": "markdown",
      "metadata": {
        "id": "CdrW62jhFsgX",
        "papermill": {
          "duration": 0.014274,
          "end_time": "2023-01-11T15:59:41.372079",
          "exception": false,
          "start_time": "2023-01-11T15:59:41.357805",
          "status": "completed"
        },
        "tags": []
      },
      "source": [
        "## Step 4.2: Transforming Data"
      ]
    },
    {
      "cell_type": "markdown",
      "metadata": {
        "id": "DzxDlK2KFsgX",
        "papermill": {
          "duration": 0.013898,
          "end_time": "2023-01-11T15:59:41.400444",
          "exception": false,
          "start_time": "2023-01-11T15:59:41.386546",
          "status": "completed"
        },
        "tags": []
      },
      "source": [
        "__Date feature is stored as object in the data frame. To increase the speed of calculations, we convert it's data type to datetime and then sort this feature in ascending order:__"
      ]
    },
    {
      "cell_type": "code",
      "execution_count": null,
      "metadata": {
        "execution": {
          "iopub.execute_input": "2023-01-13T21:11:55.338501Z",
          "iopub.status.busy": "2023-01-13T21:11:55.337912Z",
          "iopub.status.idle": "2023-01-13T21:11:55.355153Z",
          "shell.execute_reply": "2023-01-13T21:11:55.353536Z",
          "shell.execute_reply.started": "2023-01-13T21:11:55.338449Z"
        },
        "id": "GyAvYeN2FsgX",
        "papermill": {
          "duration": 0.031911,
          "end_time": "2023-01-11T15:59:41.447528",
          "exception": false,
          "start_time": "2023-01-11T15:59:41.415617",
          "status": "completed"
        },
        "tags": [],
        "trusted": true
      },
      "outputs": [],
      "source": [
        "# Convert 'Date' to datetime and sort the dataframe by Date\n",
        "df['Date'] = pd.to_datetime(df['Date'])\n",
        "df.sort_values(by='Date', ascending=True, inplace=True)\n",
        "df.reset_index(drop=True, inplace=True)\n"
      ]
    },
    {
      "cell_type": "markdown",
      "metadata": {
        "id": "3aZufya5FsgY",
        "papermill": {
          "duration": 0.014231,
          "end_time": "2023-01-11T15:59:41.477247",
          "exception": false,
          "start_time": "2023-01-11T15:59:41.463016",
          "status": "completed"
        },
        "tags": []
      },
      "source": [
        "__The \" , \" sign is redundant in the dataset. First, we remove it from the entire dataset and then change the data type of the numerical variables to float:__"
      ]
    },
    {
      "cell_type": "code",
      "execution_count": null,
      "metadata": {
        "execution": {
          "iopub.execute_input": "2023-01-13T21:11:55.357482Z",
          "iopub.status.busy": "2023-01-13T21:11:55.357066Z",
          "iopub.status.idle": "2023-01-13T21:11:55.410337Z",
          "shell.execute_reply": "2023-01-13T21:11:55.409066Z",
          "shell.execute_reply.started": "2023-01-13T21:11:55.357444Z"
        },
        "id": "FfqaDTnOFsgY",
        "papermill": {
          "duration": 0.059897,
          "end_time": "2023-01-11T15:59:41.55159",
          "exception": false,
          "start_time": "2023-01-11T15:59:41.491693",
          "status": "completed"
        },
        "tags": [],
        "trusted": true
      },
      "outputs": [],
      "source": [
        "# Remove commas from numerical columns and convert them to float\n",
        "num_cols = df.columns.drop(['Date'])\n",
        "df[num_cols] = df[num_cols].replace({',': ''}, regex=True)\n",
        "df[num_cols] = df[num_cols].astype('float64')\n"
      ]
    },
    {
      "cell_type": "markdown",
      "metadata": {
        "id": "oer7SVU5FsgY",
        "papermill": {
          "duration": 0.015026,
          "end_time": "2023-01-11T15:59:41.582168",
          "exception": false,
          "start_time": "2023-01-11T15:59:41.567142",
          "status": "completed"
        },
        "tags": []
      },
      "source": [
        "__Result:__"
      ]
    },
    {
      "cell_type": "code",
      "execution_count": null,
      "metadata": {
        "execution": {
          "iopub.execute_input": "2023-01-13T21:11:55.412623Z",
          "iopub.status.busy": "2023-01-13T21:11:55.411787Z",
          "iopub.status.idle": "2023-01-13T21:11:55.431374Z",
          "shell.execute_reply": "2023-01-13T21:11:55.429771Z",
          "shell.execute_reply.started": "2023-01-13T21:11:55.412567Z"
        },
        "id": "6JDfhTiSFsgY",
        "papermill": {
          "duration": 0.035917,
          "end_time": "2023-01-11T15:59:41.633462",
          "exception": false,
          "start_time": "2023-01-11T15:59:41.597545",
          "status": "completed"
        },
        "tags": [],
        "trusted": true
      },
      "outputs": [],
      "source": [
        "df.head()"
      ]
    },
    {
      "cell_type": "markdown",
      "metadata": {
        "id": "Q1xhokHcFsgY",
        "papermill": {
          "duration": 0.014097,
          "end_time": "2023-01-11T15:59:41.662179",
          "exception": false,
          "start_time": "2023-01-11T15:59:41.648082",
          "status": "completed"
        },
        "tags": []
      },
      "source": [
        "## Step 4.3: Checking Duplicates\n",
        "__There are no duplicate samples in Date feature:__"
      ]
    },
    {
      "cell_type": "code",
      "execution_count": null,
      "metadata": {
        "execution": {
          "iopub.execute_input": "2023-01-13T21:11:55.43408Z",
          "iopub.status.busy": "2023-01-13T21:11:55.433586Z",
          "iopub.status.idle": "2023-01-13T21:11:55.452323Z",
          "shell.execute_reply": "2023-01-13T21:11:55.450569Z",
          "shell.execute_reply.started": "2023-01-13T21:11:55.434037Z"
        },
        "id": "p5A4H2hdFsgY",
        "papermill": {
          "duration": 0.028067,
          "end_time": "2023-01-11T15:59:41.705",
          "exception": false,
          "start_time": "2023-01-11T15:59:41.676933",
          "status": "completed"
        },
        "tags": [],
        "trusted": true
      },
      "outputs": [],
      "source": [
        "# Checking for duplicate rows\n",
        "print(f\"Duplicate rows: {df.duplicated().sum()}\")\n"
      ]
    },
    {
      "cell_type": "markdown",
      "metadata": {
        "id": "QBLGHEtjFsgZ",
        "papermill": {
          "duration": 0.014432,
          "end_time": "2023-01-11T15:59:41.734442",
          "exception": false,
          "start_time": "2023-01-11T15:59:41.72001",
          "status": "completed"
        },
        "tags": []
      },
      "source": [
        "## Step 4.4: Checking Missing Values\n",
        "__There are no missing values in the dataset:__"
      ]
    },
    {
      "cell_type": "code",
      "execution_count": null,
      "metadata": {
        "execution": {
          "iopub.execute_input": "2023-01-13T21:11:55.454366Z",
          "iopub.status.busy": "2023-01-13T21:11:55.453912Z",
          "iopub.status.idle": "2023-01-13T21:11:55.466612Z",
          "shell.execute_reply": "2023-01-13T21:11:55.465054Z",
          "shell.execute_reply.started": "2023-01-13T21:11:55.454317Z"
        },
        "id": "CHfl8FIRFsgZ",
        "papermill": {
          "duration": 0.029573,
          "end_time": "2023-01-11T15:59:41.778791",
          "exception": false,
          "start_time": "2023-01-11T15:59:41.749218",
          "status": "completed"
        },
        "tags": [],
        "trusted": true
      },
      "outputs": [],
      "source": [
        "# Checking for missing values\n",
        "print(f\"Missing values: {df.isnull().sum().sum()}\")\n"
      ]
    },
    {
      "cell_type": "markdown",
      "metadata": {
        "id": "tyeSqxeoFsgZ",
        "papermill": {
          "duration": 0.014628,
          "end_time": "2023-01-11T15:59:41.808567",
          "exception": false,
          "start_time": "2023-01-11T15:59:41.793939",
          "status": "completed"
        },
        "tags": []
      },
      "source": [
        "# Step 5: Visualizing Gold Price History Data\n",
        "\n",
        "__Interactive Gold Price Chart:__"
      ]
    },
    {
      "cell_type": "code",
      "execution_count": null,
      "metadata": {
        "execution": {
          "iopub.execute_input": "2023-01-13T21:11:55.468859Z",
          "iopub.status.busy": "2023-01-13T21:11:55.468437Z",
          "iopub.status.idle": "2023-01-13T21:11:56.665075Z",
          "shell.execute_reply": "2023-01-13T21:11:56.664028Z",
          "shell.execute_reply.started": "2023-01-13T21:11:55.468819Z"
        },
        "id": "ShLWNDqDFsgZ",
        "papermill": {
          "duration": 1.42051,
          "end_time": "2023-01-11T15:59:43.244719",
          "exception": false,
          "start_time": "2023-01-11T15:59:41.824209",
          "status": "completed"
        },
        "tags": [],
        "trusted": true
      },
      "outputs": [],
      "source": [
        "# Interactive Gold Price Chart using Plotly\n",
        "fig = px.line(df, x='Date', y='Price', title=\"Gold Price History (2013-2023)\")\n",
        "fig.update_traces(line_color='black')\n",
        "fig.update_layout(\n",
        "    xaxis_title=\"Date\",\n",
        "    yaxis_title=\"Price\",\n",
        "    title={'text': \"Gold Price History Data\", 'y': 0.95, 'x': 0.5, 'xanchor': 'center', 'yanchor': 'top'},\n",
        "    plot_bgcolor='rgba(255,223,0,0.8)'\n",
        ")\n",
        "fig.show()\n"
      ]
    },
    {
      "cell_type": "markdown",
      "metadata": {
        "id": "LnZgAjnOFsgZ",
        "papermill": {
          "duration": 0.01572,
          "end_time": "2023-01-11T15:59:43.278269",
          "exception": false,
          "start_time": "2023-01-11T15:59:43.262549",
          "status": "completed"
        },
        "tags": []
      },
      "source": [
        "# Step 6: Splitting Data to Training & Test Sets\n",
        "__Since we cannot train on future data in time series data, we should not divide the time series data randomly. In time series splitting, testing set is always later than training set. We consider the last year for testing and everything else for training:__"
      ]
    },
    {
      "cell_type": "code",
      "execution_count": null,
      "metadata": {
        "execution": {
          "iopub.execute_input": "2023-01-13T21:11:56.666572Z",
          "iopub.status.busy": "2023-01-13T21:11:56.666198Z",
          "iopub.status.idle": "2023-01-13T21:11:56.678891Z",
          "shell.execute_reply": "2023-01-13T21:11:56.677512Z",
          "shell.execute_reply.started": "2023-01-13T21:11:56.666538Z"
        },
        "id": "5cPI3R4jFsgZ",
        "papermill": {
          "duration": 0.029206,
          "end_time": "2023-01-11T15:59:43.323531",
          "exception": false,
          "start_time": "2023-01-11T15:59:43.294325",
          "status": "completed"
        },
        "tags": [],
        "trusted": true
      },
      "outputs": [],
      "source": [
        "test_size = df[df.Date.dt.year==2022].shape[0]\n",
        "test_size"
      ]
    },
    {
      "cell_type": "code",
      "execution_count": null,
      "metadata": {
        "id": "bHOcCSFQGQLW"
      },
      "outputs": [],
      "source": [
        "# Add a new column 'Days' to represent days since the start\n",
        "df['Days'] = (df['Date'] - df['Date'].min()).dt.days\n",
        "\n",
        "# Split the data into features (X) and target (y)\n",
        "X = df[['Days']]\n",
        "y = df['Price']\n",
        "\n",
        "# Train-test split (80% training and 20% testing)\n",
        "X_train, X_test, y_train, y_test = train_test_split(X, y, test_size=0.2, random_state=42)\n",
        "# Initialize and train the Linear Regression model\n",
        "model = LinearRegression()\n",
        "model.fit(X_train, y_train)\n",
        "\n",
        "# Make predictions on the test set\n",
        "y_pred = model.predict(X_test)\n",
        "\n",
        "# Predict next 30 days\n",
        "future_days = pd.DataFrame({'Days': np.arange(df['Days'].max() + 1, df['Days'].max() + 31)})\n",
        "future_prices = model.predict(future_days)\n",
        "\n",
        "# Calculate R-squared score for the model\n",
        "r_squared = r2_score(y_test, y_pred)\n",
        "print(f\"R-squared: {r_squared:.4f}\")\n",
        "# Plotting the historical data, regression line, and 30-day predictions\n",
        "plt.figure(figsize=(10, 5))\n",
        "plt.scatter(df['Days'], df['Price'], color='blue', label='Historical Prices', s=10)\n",
        "plt.plot(X['Days'], model.predict(X), color='orange', label='Regression Line')\n",
        "plt.plot(future_days['Days'], future_prices, color='red', linestyle='dashed', label='30-Day Prediction')\n",
        "plt.xlabel('Days since start')\n",
        "plt.ylabel('Gold Price')\n",
        "plt.title('Gold Price Prediction (Linear Regression)')\n",
        "plt.legend()\n",
        "plt.grid()\n",
        "plt.tight_layout()\n",
        "plt.show()\n"
      ]
    }
  ],
  "metadata": {
    "colab": {
      "provenance": []
    },
    "kernelspec": {
      "display_name": "Python 3",
      "language": "python",
      "name": "python3"
    },
    "language_info": {
      "codemirror_mode": {
        "name": "ipython",
        "version": 3
      },
      "file_extension": ".py",
      "mimetype": "text/x-python",
      "name": "python",
      "nbconvert_exporter": "python",
      "pygments_lexer": "ipython3",
      "version": "3.6.4"
    }
  },
  "nbformat": 4,
  "nbformat_minor": 0
}
